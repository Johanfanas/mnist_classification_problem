{
  "nbformat": 4,
  "nbformat_minor": 0,
  "metadata": {
    "colab": {
      "name": "mnist_prediction.ipynb",
      "provenance": []
    },
    "kernelspec": {
      "name": "python3",
      "display_name": "Python 3"
    }
  },
  "cells": [
    {
      "cell_type": "code",
      "metadata": {
        "id": "8z1ClFPrG5aq"
      },
      "source": [
        "import keras\n",
        "from keras.datasets import mnist\n",
        "from keras.models import Sequential, load_model\n",
        "from keras.layers import Dense, Dropout, Flatten, Conv2D, MaxPool2D, Lambda\n",
        "from keras.callbacks import EarlyStopping\n",
        "from keras.utils import to_categorical\n",
        "import matplotlib.pyplot as plt\n",
        "import numpy as np\n",
        "import math\n",
        "import sklearn\n",
        "from sklearn.utils import shuffle\n",
        "from sklearn.model_selection import train_test_split"
      ],
      "execution_count": 136,
      "outputs": []
    },
    {
      "cell_type": "code",
      "metadata": {
        "colab": {
          "base_uri": "https://localhost:8080/",
          "height": 332
        },
        "id": "WEjWTIsWyoZP",
        "outputId": "5195246e-caf1-4d4e-8ebc-9d9c2deb9a31"
      },
      "source": [
        "batch_size = 128\n",
        "num_classes = 10\n",
        "epochs = 5\n",
        "\n",
        "# Loading the data\n",
        "(trainX, trainy), (testX, testy) = mnist.load_data()\n",
        " \n",
        "# One hot encode labels\n",
        "trainy = to_categorical(trainy)\n",
        "testy = to_categorical(testy)\n",
        "\n",
        "# Separate half of the training data for validation\n",
        "validX, validy = trainX[-30000:],trainy[-30000:]\n",
        "trainX, trainy = trainX[:-30000],trainy[:-30000]\n",
        "\n",
        "print('Train: X=%s, y=%s' % (trainX.shape, trainy.shape))\n",
        "print('Valid: X=%s, y=%s' % (validX.shape, validy.shape))\n",
        "print('Test: X=%s, y=%s' % (testX.shape, testy.shape))\n",
        "\n",
        "# Plotting the first image\n",
        "plt.imshow(trainX[0], cmap='gray')"
      ],
      "execution_count": 137,
      "outputs": [
        {
          "output_type": "stream",
          "text": [
            "Train: X=(30000, 28, 28), y=(30000, 10)\n",
            "Valid: X=(30000, 28, 28), y=(30000, 10)\n",
            "Test: X=(10000, 28, 28), y=(10000, 10)\n"
          ],
          "name": "stdout"
        },
        {
          "output_type": "execute_result",
          "data": {
            "text/plain": [
              "<matplotlib.image.AxesImage at 0x7f5a201c6550>"
            ]
          },
          "metadata": {
            "tags": []
          },
          "execution_count": 137
        },
        {
          "output_type": "display_data",
          "data": {
            "image/png": "[encoded data removed]",
            "text/plain": [
              "<Figure size 432x288 with 1 Axes>"
            ]
          },
          "metadata": {
            "tags": [],
            "needs_background": "light"
          }
        }
      ]
    },
    {
      "cell_type": "code",
      "metadata": {
        "id": "UXAf32vU0ajd"
      },
      "source": [
        "def generator(samples, batch_size):\n",
        "    y = samples[1]\n",
        "    x = samples[0]\n",
        "    num_samples = len(samples)\n",
        "    while True:\n",
        "        for offset in range(0, num_samples, batch_size):\n",
        "            batch_x = x[offset:offset+batch_size]\n",
        "            batch_y = y[offset:offset+batch_size]\n",
        "\n",
        "            X_train = np.array(batch_x)\n",
        "            y_train = np.array(batch_y)\n",
        "            yield np.array(X_train), np.array(y_train)"
      ],
      "execution_count": 138,
      "outputs": []
    },
    {
      "cell_type": "code",
      "metadata": {
        "id": "QAHxiuyj0NQn",
        "colab": {
          "base_uri": "https://localhost:8080/"
        },
        "outputId": "5c18e783-9cbf-489e-dc22-0f40fa93a137"
      },
      "source": [
        "trainX, trainy = shuffle(trainX, trainy)\n",
        "validX, validy = shuffle(validX, validy)\n",
        "\n",
        "train_generator = generator((trainX, trainy), batch_size=batch_size)\n",
        "validation_generator = generator((validX, validy), batch_size=batch_size)\n",
        "\n",
        "# Defining model\n",
        "model = Sequential()\n",
        "model.add(Lambda(lambda x:x / 255.0 - 0.5, input_shape=(28,28,1)))\n",
        "model.add(Conv2D(32,3,3, activation='relu'))\n",
        "model.add(Dropout(0.6)) \n",
        "model.add(MaxPool2D((2,2)))\n",
        "model.add(Flatten())\n",
        "model.add(Dense(100))\n",
        "model.add(Dense(10))\n",
        "model.compile(loss='mse', optimizer='adam')\n",
        "\n",
        "model.fit_generator(train_generator, steps_per_epoch=math.floor(len(trainX)/batch_size)\\\n",
        "                    , validation_data=validation_generator, \\\n",
        "                    validation_steps=math.floor(len(validX)/batch_size), \\\n",
        "                    epochs=4, verbose=1, callbacks=[EarlyStopping(verbose=1)])\n",
        "\n",
        "model.save('model.h5')"
      ],
      "execution_count": 139,
      "outputs": [
        {
          "output_type": "stream",
          "text": [
            "Epoch 1/4\n",
            "234/234 [==============================] - 1s 4ms/step - loss: 0.0452 - val_loss: 0.0542\n",
            "Epoch 2/4\n",
            "234/234 [==============================] - 1s 4ms/step - loss: 0.0264 - val_loss: 0.0528\n",
            "Epoch 3/4\n",
            "234/234 [==============================] - 1s 5ms/step - loss: 0.0234 - val_loss: 0.0514\n",
            "Epoch 4/4\n",
            "234/234 [==============================] - 1s 4ms/step - loss: 0.0219 - val_loss: 0.0507\n"
          ],
          "name": "stdout"
        }
      ]
    },
    {
      "cell_type": "code",
      "metadata": {
        "colab": {
          "base_uri": "https://localhost:8080/",
          "height": 671
        },
        "id": "ZfI4A43HqnGo",
        "outputId": "76319685-ef18-4361-b5ea-6fd176592b59"
      },
      "source": [
        "# Loading saved model\n",
        "model = load_model('model.h5')\n",
        "model.compile(optimizer = 'adam', loss = 'binary_crossentropy', metrics = ['accuracy'])\n",
        "predictions = model.predict(testX)  # Making predictions\n",
        "\n",
        "fig = plt.figure()\n",
        "\n",
        "for i in range(6):\n",
        "  index_to_predict = i\n",
        "  print('Image number %d' % (i+1))\n",
        "  print('Prediction: %d' % (np.argmax(predictions[index_to_predict])))\n",
        "  print('Actual:     %d\\n' % (np.argmax(testy[index_to_predict])))\n",
        "  vals = testX[index_to_predict].reshape(28, 28)\n",
        "  ax = fig.add_subplot(3,2,i+1)\n",
        "  ax.imshow(vals)"
      ],
      "execution_count": 140,
      "outputs": [
        {
          "output_type": "stream",
          "text": [
            "Image number 1\n",
            "Prediction: 7\n",
            "Actual:     7\n",
            "\n",
            "Image number 2\n",
            "Prediction: 2\n",
            "Actual:     2\n",
            "\n",
            "Image number 3\n",
            "Prediction: 1\n",
            "Actual:     1\n",
            "\n",
            "Image number 4\n",
            "Prediction: 0\n",
            "Actual:     0\n",
            "\n",
            "Image number 5\n",
            "Prediction: 4\n",
            "Actual:     4\n",
            "\n",
            "Image number 6\n",
            "Prediction: 1\n",
            "Actual:     1\n",
            "\n"
          ],
          "name": "stdout"
        },
        {
          "output_type": "display_data",
          "data": {
            "image/png": "[encoded data removed]",
            "text/plain": [
              "<Figure size 432x288 with 6 Axes>"
            ]
          },
          "metadata": {
            "tags": [],
            "needs_background": "light"
          }
        }
      ]
    },
    {
      "cell_type": "code",
      "metadata": {
        "colab": {
          "base_uri": "https://localhost:8080/"
        },
        "id": "ioFs9rQQD069",
        "outputId": "ffc7d310-2577-4a57-a129-667e6f32fcde"
      },
      "source": [
        "# Testing accuracy of model with new images\n",
        "print(\"Evaluate on test data\")\n",
        "results = model.evaluate(testX, testy, batch_size=128)\n",
        "print(\"test loss, test acc:\", results)"
      ],
      "execution_count": 141,
      "outputs": [
        {
          "output_type": "stream",
          "text": [
            "Evaluate on test data\n",
            "79/79 [==============================] - 0s 2ms/step - loss: 0.1826 - accuracy: 0.7547\n",
            "test loss, test acc: [0.18258118629455566, 0.7547000050544739]\n"
          ],
          "name": "stdout"
        }
      ]
    }
  ]
}